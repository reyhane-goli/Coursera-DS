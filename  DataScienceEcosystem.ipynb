{
 "cells": [
  {
   "cell_type": "markdown",
   "id": "d8317428-bded-4128-8cde-d0c9497aef66",
   "metadata": {},
   "source": [
    "# Data Science Tools and Ecosystem"
   ]
  },
  {
   "cell_type": "markdown",
   "id": "4dc10d46-0361-45ef-b82d-f2f961fac0c3",
   "metadata": {},
   "source": [
    "In this notebook, Data Science Tools and Ecosystem are summarized."
   ]
  },
  {
   "cell_type": "markdown",
   "id": "383e031f-5a0b-4f5e-bba6-b3f6d375f4bb",
   "metadata": {},
   "source": [
    "**Objectives:**\n",
    "- List of popular languages for Data Science\n",
    "- List of libraries used by Data Scientists\n",
    "- List of Data Science tools"
   ]
  },
  {
   "cell_type": "markdown",
   "id": "78b0eefd-45cd-40a8-a0ba-301a90163636",
   "metadata": {},
   "source": [
    "Some of the popular languages that Data Scientists use are:\n",
    "1. Python\n",
    "2. R\n",
    "3. SQL"
   ]
  },
  {
   "cell_type": "markdown",
   "id": "94d157bd-0e59-4b45-a145-5096805623ec",
   "metadata": {},
   "source": [
    "Some of the commonly used libraries used by Data Scientists include:\n",
    "1. Sickit learn\n",
    "2. Pytorch\n",
    "3. Tensorflow"
   ]
  },
  {
   "cell_type": "markdown",
   "id": "304263ae-0fcd-47ab-bc60-57ebcda6b8d8",
   "metadata": {},
   "source": [
    "| Data Science Tools |\n",
    "|--------------------|\n",
    "| Jupyter Notebook   |\n",
    "| RStudio            |\n",
    "| VS Code + Python   |\n"
   ]
  },
  {
   "cell_type": "markdown",
   "id": "df79e07f-1b20-4c8f-9ea0-a2d6498e0ca7",
   "metadata": {},
   "source": [
    "### Below are a few examples of evaluating arithmetic expressions in Python."
   ]
  },
  {
   "cell_type": "code",
   "execution_count": 4,
   "id": "f880cedb-a5a3-429b-bb6c-41f6c633a867",
   "metadata": {},
   "outputs": [
    {
     "data": {
      "text/plain": [
       "17"
      ]
     },
     "execution_count": 4,
     "metadata": {},
     "output_type": "execute_result"
    }
   ],
   "source": [
    "#This a simple arithmetic expression to mutiply then add integers.\n",
    "(3*4)+5"
   ]
  },
  {
   "cell_type": "code",
   "execution_count": 5,
   "id": "d0b3bf3c-4c5d-4878-bb4d-588ac6ef9c1b",
   "metadata": {},
   "outputs": [
    {
     "data": {
      "text/plain": [
       "3.3333333333333335"
      ]
     },
     "execution_count": 5,
     "metadata": {},
     "output_type": "execute_result"
    }
   ],
   "source": [
    "# This will convert 200 minutes to hours by diving by 60\n",
    "200/60"
   ]
  },
  {
   "cell_type": "markdown",
   "id": "6a24b8fd-bfa1-4a3a-9500-d96a616f6c28",
   "metadata": {},
   "source": [
    "## Author\n",
    "Reyhaneh Goli"
   ]
  },
  {
   "cell_type": "code",
   "execution_count": null,
   "id": "5e33b709-debf-415e-b0a2-a86d1a282fe0",
   "metadata": {},
   "outputs": [],
   "source": []
  }
 ],
 "metadata": {
  "kernelspec": {
   "display_name": "Python 3 (ipykernel)",
   "language": "python",
   "name": "python3"
  },
  "language_info": {
   "codemirror_mode": {
    "name": "ipython",
    "version": 3
   },
   "file_extension": ".py",
   "mimetype": "text/x-python",
   "name": "python",
   "nbconvert_exporter": "python",
   "pygments_lexer": "ipython3",
   "version": "3.11.3"
  }
 },
 "nbformat": 4,
 "nbformat_minor": 5
}
